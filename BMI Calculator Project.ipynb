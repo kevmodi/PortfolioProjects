{
 "cells": [
  {
   "cell_type": "markdown",
   "id": "2fda3d54",
   "metadata": {},
   "source": [
    "# BMI Calculator\n",
    "https://mercer-health.com/services/weight-management-center/bmi-calculator#:~:text=Body%20Mass%20Index%2C%20or%20BMI,inches%20x%20height%20in%20inches\n",
    "\n"
   ]
  },
  {
   "cell_type": "markdown",
   "id": "b0bfec90",
   "metadata": {},
   "source": [
    "#BMI = (weight in pounds x 703) / (height in inches x height in inches)"
   ]
  },
  {
   "cell_type": "markdown",
   "id": "60789274",
   "metadata": {},
   "source": [
    "Under 18.5: Underweight\n",
    "\n",
    "18.5 - 24.9: Normal Weight\n",
    "\n",
    "25 - 29.9: Overweight\n",
    "\n",
    "30 - 34.9: Obese\n",
    "\n",
    "35 - 39.9: Severely Obese\n",
    "\n",
    "40 and over: Morbidly Obese"
   ]
  },
  {
   "cell_type": "code",
   "execution_count": 4,
   "id": "8f5980ac",
   "metadata": {},
   "outputs": [
    {
     "name": "stdout",
     "output_type": "stream",
     "text": [
      "Please enter your name: Nav\n",
      "Please enter your weight in pounds: 172\n",
      "Please enter your height in inches: 73\n",
      "Your BMI is 22.690185775942954\n"
     ]
    }
   ],
   "source": [
    "name = input(\"Please enter your name: \")\n",
    "weight = input(\"Please enter your weight in pounds: \")\n",
    "height = input(\"Please enter your height in inches: \")\n",
    "weight = float(weight)\n",
    "height = float(height)\n",
    "BMI = (weight*703)/(height*height)\n",
    "print(\"Your BMI is \" + str(BMI))\n",
    "\n"
   ]
  },
  {
   "cell_type": "code",
   "execution_count": 5,
   "id": "19f67399",
   "metadata": {},
   "outputs": [
    {
     "name": "stdout",
     "output_type": "stream",
     "text": [
      "Nav, you are normal weight.\n"
     ]
    }
   ],
   "source": [
    "if BMI>0:\n",
    "    if BMI<=18.5:\n",
    "        print(name +\", you are underwight.\")\n",
    "    elif BMI<=24.9 and BMI>18.5:\n",
    "        print(name +\", you are normal weight.\")\n",
    "    elif BMI<=29.9 and BMI>24.9:\n",
    "        print(name +\", you are overweight. You need to exercise more and stop sitting and writing so many python tutorials.\")\n",
    "    elif BMI<=34.9 and BMI>29.9:\n",
    "        print(name +\", you are obese.\")\n",
    "    elif BMI<=39.9 and BMI>34.9:\n",
    "        print(name +\", you are severely obese.\")\n",
    "    elif BMI >=40:\n",
    "        print(name +\", you are morbidly obese.\")\n",
    "else:\n",
    "    print(\"Enter valid input\")\n"
   ]
  }
 ],
 "metadata": {
  "kernelspec": {
   "display_name": "Python 3 (ipykernel)",
   "language": "python",
   "name": "python3"
  },
  "language_info": {
   "codemirror_mode": {
    "name": "ipython",
    "version": 3
   },
   "file_extension": ".py",
   "mimetype": "text/x-python",
   "name": "python",
   "nbconvert_exporter": "python",
   "pygments_lexer": "ipython3",
   "version": "3.11.4"
  }
 },
 "nbformat": 4,
 "nbformat_minor": 5
}
